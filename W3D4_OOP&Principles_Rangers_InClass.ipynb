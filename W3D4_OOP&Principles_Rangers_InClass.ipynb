{
 "cells": [
  {
   "cell_type": "markdown",
   "metadata": {},
   "source": [
    " <h1 align = center> Principles of Object Oriented Programming </h1>"
   ]
  },
  {
   "cell_type": "markdown",
   "metadata": {},
   "source": [
    "#### 4 principles\n",
    "- Encapsulation\n",
    "- Inheritance\n",
    "- Polymorphism\n",
    "- Abstraction\n"
   ]
  },
  {
   "cell_type": "markdown",
   "metadata": {},
   "source": [
    "## ENCAPSULATION"
   ]
  },
  {
   "cell_type": "markdown",
   "metadata": {},
   "source": [
    "In encapsulation, the variables of a class can be made hidden from other classes, and can be accessed only through the methods of their current class. Therefore, it is also known as data hiding.\n",
    "<br><br>\n",
    "Encapsulation can be described as a protective barrier that prevents the code and data being randomly accessed by other code defined outside the class. Access to the data and code is tightly controlled by a class."
   ]
  },
  {
   "cell_type": "code",
   "execution_count": 24,
   "metadata": {},
   "outputs": [],
   "source": [
    "from datetime import timedelta, date\n",
    "from IPython.display import Image\n",
    "import requests\n",
    "from time import sleep\n",
    "\n",
    "generic_image = 'codeflix.png'\n"
   ]
  },
  {
   "cell_type": "code",
   "execution_count": 25,
   "metadata": {},
   "outputs": [],
   "source": [
    "# dont do it this way anymore\n",
    "# class Car():\n",
    "#     def __init__(self, make, model):\n",
    "#         self.make = make\n",
    "#         self.model = model\n",
    "        \n",
    "#     def __repr__(self):\n",
    "#         return F\"this is a {self.make} {self.model}\"\n",
    "        \n",
    "# honda = Car(\"Honda\", \"Civic\")\n",
    "\n",
    "# print(honda.make)\n",
    "# print(honda)\n",
    "\n",
    "# honda.make = \"chevy\"\n",
    "\n",
    "# class Truck():\n",
    "#     def __init__(self, make, model):\n",
    "#         self.make = make\n",
    "#         self.model = model\n",
    "\n",
    "\n"
   ]
  },
  {
   "cell_type": "code",
   "execution_count": 26,
   "metadata": {},
   "outputs": [
    {
     "name": "stdout",
     "output_type": "stream",
     "text": [
      "None\n"
     ]
    },
    {
     "name": "stdin",
     "output_type": "stream",
     "text": [
      "What are you watching?  n\n"
     ]
    },
    {
     "name": "stdout",
     "output_type": "stream",
     "text": [
      "N\n",
      "HELLO\n",
      "HELLO\n"
     ]
    }
   ],
   "source": [
    "class Test_Video():\n",
    "    def __init__(self):\n",
    "        self.title = None\n",
    "                \n",
    "    def add_title(self):\n",
    "        new_title = input(\"What are you watching? \")\n",
    "        self.title = new_title\n",
    "                \n",
    "                                 \n",
    "        \n",
    "    def __repr__(self):\n",
    "        return \"HELLO\"\n",
    "        \n",
    "my_video = Test_Video()\n",
    "print(my_video.title)\n",
    "\n",
    "my_video.add_title()\n",
    "print(my_video.title.title())\n",
    "\n",
    "# DONT DO THIS\n",
    "# my_video.title = \"Ted Lasso\"\n",
    "print(my_video)\n",
    "# DIBT DI THIS\n",
    "#my_vido.title = \"ted lasso\"\n",
    "print(my_video)\n",
    "\n",
    "\n"
   ]
  },
  {
   "cell_type": "code",
   "execution_count": 27,
   "metadata": {},
   "outputs": [],
   "source": [
    "#video class\n",
    "from datetime import timedelta, date\n",
    "from IPython.display import Image\n",
    "import requests\n",
    "from time import sleep\n",
    "\n",
    "generic_image = 'codeflix.png'\n",
    "\n",
    "class Video():\n",
    "    \n",
    "    generic_image = 'codeflix.png'\n",
    "    def __init__(self):\n",
    "        self.title = None\n",
    "        self.length = timedelta()\n",
    "        self.link = generic_image\n",
    "        \n",
    "    def play(self):\n",
    "        print(f\"Now playing: {self.title}\")\n",
    "        display(Image(url = self.link))\n",
    "        \n",
    "    def __len__(self):\n",
    "        return self.length\n",
    "        \n",
    "    def __repr__(self):\n",
    "        return f\"{self.title} is {self.length.seconds} seconds long\"\n"
   ]
  },
  {
   "cell_type": "markdown",
   "metadata": {},
   "source": [
    "## INHERITANCE"
   ]
  },
  {
   "cell_type": "markdown",
   "metadata": {},
   "source": [
    "Inheritance can be defined as the process where one class acquires the properties (methods and fields) of another.\n",
    "<br>\n",
    "<i>(see above)</i>"
   ]
  },
  {
   "cell_type": "code",
   "execution_count": 28,
   "metadata": {},
   "outputs": [],
   "source": [
    "# Episode inherits from Video class\n",
    "\n",
    "class Episode(Video):\n",
    "    def __init__(self, data):\n",
    "        Video.__init__(self)\n",
    "        self.number = data['number']\n",
    "        self.season = data['season']\n",
    "        self.date_aired = data['airdate']\n",
    "        self.summary = data['summary']\n",
    "        self.rating = data['rating']['average']\n",
    "        self.title = data['name']\n",
    "        self.length = timedelta(minutes = data['runtime'])\n",
    "        if data['image']:\n",
    "            self.link = data['image']['medium']\n",
    "            "
   ]
  },
  {
   "cell_type": "markdown",
   "metadata": {},
   "source": [
    "## POLYMORPHISM"
   ]
  },
  {
   "cell_type": "markdown",
   "metadata": {},
   "source": [
    "In object-oriented programming, polymorphism (from the Greek meaning “having multiple forms”) is the characteristic of being able to assign a different meaning or usage to something in different contexts — specifically, to allow an entity such as a function, or an object to have more than one form.\n",
    "<br><br>\n"
   ]
  },
  {
   "cell_type": "code",
   "execution_count": 29,
   "metadata": {},
   "outputs": [],
   "source": [
    "class Series():\n",
    "    def __init__(self):\n",
    "        self.id = None\n",
    "        self.network = None\n",
    "        self.seasons = None\n",
    "        self.summary = None\n",
    "        self.title = None\n",
    "        self.genres = []\n",
    "        self.episodes = []\n",
    "        \n",
    "    def get_info(self, query=''):\n",
    "        data = None #the show we're looking for doesnt exist\n",
    "        while not data:\n",
    "            if not query:\n",
    "                query = input(\"What is the name of the series? \")\n",
    "                \n",
    "            r = requests.get(f\"https://api.tvmaze.com/singlesearch/shows?q={query}\")\n",
    "            if r.status_code == 200:\n",
    "                data = r.json()\n",
    "            else:\n",
    "                print(f\"Series Error: {r.status_code}\")\n",
    "                \n",
    "#         Data to alter class attributes\n",
    "        self.id = data['id']\n",
    "        self.title = data['name']\n",
    "        self.genres = data['genres']\n",
    "        if data['network']:\n",
    "            self.network = data['network']['name']\n",
    "        else:\n",
    "            self.network = data['webChannel']['name']\n",
    "            \n",
    "            \n",
    "#         api call for episodes using the id from the series which is self.id\n",
    "        r = requests.get(f\"https://api.tvmaze.com/shows/{self.id}/episodes\")\n",
    "        if r.status_code == 200:\n",
    "            episodes = r.json() # list of episode dictionaries that comes back from https://api.tvmaze.com/shows/216/episodes\n",
    "            self.seasons = episodes[-1]['season']\n",
    "            self.episodes = [Episode(ep) for ep in episodes] #each episode dictionary becomes the data we're passing into an Episode instance\n",
    "            print(f\"{self.title} has {len(self.episodes)} episodes\")\n",
    "        else:\n",
    "            print(f\"Print Episode Error: status_code {r.status_code}\")\n",
    "            \n",
    "    \n",
    "    \n",
    "    def watch(self):\n",
    "        for i in range(len(self.episodes)):\n",
    "            if i > 0 and i % 3 == 0:\n",
    "                watching = input(\"Are you still watching? also get a job y/n\")\n",
    "                if watching.lower().strip() not in (\"yes\", \"y\", \"yeah\", \"ye\", \"affirmative\", \"si\", \"indeed\"):\n",
    "                    break\n",
    "            self.episodes[i].play()\n",
    "            sleep(self.episodes[i].length.seconds/1000)\n",
    "            \n",
    "    def __len__(self):\n",
    "        return len(self.episodes)\n",
    "    \n",
    "    def __repr__(self):\n",
    "        return f\"Title: {self.title}\"     \n",
    "\n"
   ]
  },
  {
   "cell_type": "code",
   "execution_count": 30,
   "metadata": {},
   "outputs": [],
   "source": [
    "my_show = Series()"
   ]
  },
  {
   "cell_type": "code",
   "execution_count": 31,
   "metadata": {},
   "outputs": [
    {
     "name": "stdout",
     "output_type": "stream",
     "text": [
      "Scrubs has 182 episodes\n"
     ]
    }
   ],
   "source": [
    "my_show.get_info(\"Scrubs\")"
   ]
  },
  {
   "cell_type": "code",
   "execution_count": 32,
   "metadata": {},
   "outputs": [
    {
     "name": "stdout",
     "output_type": "stream",
     "text": [
      "Now playing: My First Day\n"
     ]
    },
    {
     "data": {
      "text/html": [
       "<img src=\"https://static.tvmaze.com/uploads/images/medium_landscape/193/483595.jpg\"/>"
      ],
      "text/plain": [
       "<IPython.core.display.Image object>"
      ]
     },
     "metadata": {},
     "output_type": "display_data"
    },
    {
     "name": "stdout",
     "output_type": "stream",
     "text": [
      "Now playing: My Mentor\n"
     ]
    },
    {
     "data": {
      "text/html": [
       "<img src=\"https://static.tvmaze.com/uploads/images/medium_landscape/193/483596.jpg\"/>"
      ],
      "text/plain": [
       "<IPython.core.display.Image object>"
      ]
     },
     "metadata": {},
     "output_type": "display_data"
    },
    {
     "name": "stdout",
     "output_type": "stream",
     "text": [
      "Now playing: My Best Friend's Mistake\n"
     ]
    },
    {
     "data": {
      "text/html": [
       "<img src=\"https://static.tvmaze.com/uploads/images/medium_landscape/193/483597.jpg\"/>"
      ],
      "text/plain": [
       "<IPython.core.display.Image object>"
      ]
     },
     "metadata": {},
     "output_type": "display_data"
    },
    {
     "name": "stdin",
     "output_type": "stream",
     "text": [
      "Are you still watching? also get a job y/n n\n"
     ]
    }
   ],
   "source": [
    "my_show.watch()"
   ]
  },
  {
   "cell_type": "code",
   "execution_count": 35,
   "metadata": {},
   "outputs": [],
   "source": [
    "class User:\n",
    "    __id_counter = 1 #class attribute\n",
    "    def __init__(self, username, password):\n",
    "        self.username = username\n",
    "        self.password = password[::-2]\n",
    "        self.id = User.__id_counter\n",
    "        User.__id_counter += 1\n",
    "        self.watch_list = []\n",
    "        \n",
    "    def __str__(self):\n",
    "        formatted_user = f\"\"\"\n",
    "        {self.id} - {self.username.title()}\n",
    "        pw: {self.password}\n",
    "        \"\"\"\n",
    "        \n",
    "        return formatted_user\n",
    "    \n",
    "    def __repr__(self):\n",
    "        return f\"<User {self.id} | {self.username}>\"\n",
    "    \n",
    "    def check_password(self, password_guess):\n",
    "        return self.password == password_guess[::-2]"
   ]
  },
  {
   "cell_type": "markdown",
   "metadata": {},
   "source": [
    "## ABSTRACTION"
   ]
  },
  {
   "cell_type": "markdown",
   "metadata": {},
   "source": [
    "Abstraction is a process of hiding the implementation details from the user, only the functionality will be provided to the user. We have a bit to do before this becomes visible. But you've seen it before with presenting the user with the option to enter inputs. We then take those input and do something with them.\n",
    "<br><br>"
   ]
  },
  {
   "cell_type": "code",
   "execution_count": 38,
   "metadata": {},
   "outputs": [],
   "source": [
    "\n",
    "from datetime import timedelta, date\n",
    "from IPython.display import Image\n",
    "import requests\n",
    "from time import sleep\n",
    "\n",
    "generic_image = 'codeflix.png'\n",
    "\n",
    "class Theater():\n",
    "    def __init__(self):\n",
    "        self.users = set()\n",
    "        self.current_user = None\n",
    "        \n",
    "    # adding a user to self.users\n",
    "    def add_user(self):\n",
    "        username = input(\"Please enter a username: \")\n",
    "        \n",
    "        if username in {u.username for u in self.users}:\n",
    "            print('User with that name already exists. Please try again!')\n",
    "        else:\n",
    "            password = input(\"Please enter your password: \")\n",
    "            user = User(username, password)\n",
    "            self.users.add(user)\n",
    "            print(f\"{user} has been created!!!\")\n",
    "            \n",
    "        self.login_user()\n",
    "        \n",
    "#     login user \n",
    "    def login_user(self):\n",
    "        username = input(\"What is your username? \")\n",
    "        password = input(\"What is your password? \")\n",
    "        \n",
    "        for user in self.users:\n",
    "            if user.username == username and user.check_password(password):\n",
    "                self.current_user = user\n",
    "                print(f\"{user} has logged in!\")\n",
    "                break\n",
    "        else:\n",
    "            print(\"Username and/or password is incorrect!\")\n",
    "            \n",
    "#     logout user\n",
    "    def logout(self):\n",
    "        self.current_user = None\n",
    "        print(\"You have succesfully been logged out!\")\n",
    "        \n",
    "#     update user\n",
    "    def update_user(self):\n",
    "        if self.current_user:\n",
    "            print(self.current_user)\n",
    "            new_user = input(\"Please enter the updated username or enter skip to keep your current username \")\n",
    "            if new_user.lower() != \"skip\":\n",
    "                self.current_user.username = new_user\n",
    "            new_pw = input(\"Please enter the updated password or enter skip to keep current password\")\n",
    "            if new_pw != \"skip\":\n",
    "                self.current_user.password = new_pw\n",
    "            print(f\"{self.current_user.username}'s info has been updated!\")\n",
    "        else:\n",
    "            print(\"Please login to update your information\")\n",
    "            self.login_user()\n",
    "            \n",
    "# ---------------------------------------------------------------------------------------------------------------\n",
    "# watchlist section\n",
    "\n",
    "# add to watch list\n",
    "    def add_to_watchlist(self, query=\"\"):\n",
    "        if self.current_user:\n",
    "            show = Series()\n",
    "            show.get_info(query)\n",
    "            self.current_user.watch_list.append(show)\n",
    "            \n",
    "            print(f\"{show.title} has been added to the watchlist!\")\n",
    "        \n",
    "        else: \n",
    "            print(\"please sign in to add to your watchlist\")\n",
    "            self.login_user()\n",
    "            \n",
    "    # view watchlist\n",
    "    def view_watch_list(self):\n",
    "        if self.current_user:\n",
    "            for series in self.current_user.watch_list:\n",
    "                print(f\"\\n\\n{series} | Episodes: {(len(series))}\")\n",
    "                print(f\"\\nSummary: \\n {series.summary}\")\n",
    "                display(Image(series.episodes[0].link))\n",
    "        else:\n",
    "            print(\"please sign in to add to your watchlist\")\n",
    "            self.login_user()\n",
    "            \n",
    "#     remove from watchlist\n",
    "    def delete(self):\n",
    "        if self.current_user:\n",
    "            print(\"Your current watchlist: \")\n",
    "            self.view_watch_list()\n",
    "            \n",
    "            response = input(\"What would you like to remove from your watch list? \")\n",
    "            \n",
    "            for series in self.current_user.watch_list:\n",
    "                if series.title.title() == response.title():\n",
    "                    self.current_user.watch_list.remove(series)\n",
    "                    print(f\"{response.title()} has been removed from your watch list!\")\n",
    "                    break\n",
    "            else:\n",
    "                print(\"That title is not in your watch list! You GOON!\") # 404 error\n",
    "                \n",
    "            self.view_watch_list()\n",
    "            \n",
    "        else:\n",
    "            print(\"please sign in to add to your watchlist\")\n",
    "            self.login_user()\n",
    "        \n",
    "            \n",
    "            \n",
    "    def choose_from_watch_list(self):\n",
    "        if self.current_user:\n",
    "            self.view_watch_list()\n",
    "            \n",
    "            watch = input(\"What would you like to watch? \")\n",
    "            for series in self.current_user.watch_list:\n",
    "                if series.title.lower() == watch.lower().strip():\n",
    "                    series.watch()\n",
    "                    break\n",
    "            else:\n",
    "                response = input(f\"{watch} is not in your watch list... would you like to add it? y/n\")\n",
    "                if response in (\"yes\", 'y'):\n",
    "                    self.add_to_watchlist(watch)\n",
    "                    \n",
    "                    print(\"..........\")\n",
    "                    sleep(2)\n",
    "                    print(\"...............\")\n",
    "                    self.current_user.watch_list[-1].watch()\n",
    "                    \n",
    "        else:\n",
    "            print(\"please sign in to add to your watchlist\")\n",
    "            self.login_user()\n",
    "            \n",
    "            \n",
    "    \n",
    "#     runnnnn itttttt\n",
    "    def run(self):\n",
    "        \"\"\"\n",
    "        Method allowing users to choose a series and play episodes\n",
    "        \"\"\"\n",
    "        display(Image(url=generic_image))\n",
    "        \n",
    "        if self.users:\n",
    "            self.login_user()\n",
    "        else:\n",
    "            self.add_user()\n",
    "            \n",
    "            print(\"\"\"\n",
    "            What would you like to do?\n",
    "            Add - add a new user\n",
    "            Login - login to your profile\n",
    "            Update - update user information\n",
    "            Logout - Logout of your profile\n",
    "            Search - search for shows\n",
    "            Watch - pick something from your watchlist\n",
    "            View - view your watchlist\n",
    "            Delete - delete from watch list\n",
    "            Quit - close the application            \n",
    "            \n",
    "            \"\"\")\n",
    "            \n",
    "        while True:\n",
    "            response = input(\"What would you like to do? (add, update, login, search, watch, view, delete, quit?) \").lower()\n",
    "            \n",
    "            if response == \"search\":\n",
    "                self.add_to_watchlist()\n",
    "            elif response == \"watch\":\n",
    "                self.choose_from_watch_list()\n",
    "            elif response == \"add\":\n",
    "                self.add_user()\n",
    "            elif response == \"logout\":\n",
    "                self.logout()\n",
    "                new_response = input(\"What would you like to do next? login, add, quit\").lower()\n",
    "                if new_response == \"add\":\n",
    "                    self.add_user()\n",
    "                elif new_response == \"login\":\n",
    "                    self.login_user()\n",
    "                elif new_response == \"quit\":\n",
    "                    print(\"Thanks for watching!\")\n",
    "                    break\n",
    "                    \n",
    "                else:\n",
    "                    print(\"Please enter a valid response and try again!\")\n",
    "                    \n",
    "            elif response == \"login\":\n",
    "                self.login_user()\n",
    "                \n",
    "            elif response == \"update\":\n",
    "                self.update_user()\n",
    "                \n",
    "            elif response == \"view\":\n",
    "                self.view_watch_list()\n",
    "                \n",
    "            elif response == \"delete\":\n",
    "                self.delete()\n",
    "                \n",
    "            elif response == \"quit\":\n",
    "                print(f\"Thanks for watching {self.current_user.username}! Now go outside and touch some grass!\")\n",
    "                break\n",
    "            else:\n",
    "                print(\"Please enter a valid input and try again!\")\n",
    "   \n",
    "\n",
    "\n",
    "\n",
    "\n",
    "\n",
    "\n",
    "\n"
   ]
  },
  {
   "cell_type": "code",
   "execution_count": 39,
   "metadata": {},
   "outputs": [],
   "source": [
    "codeflix = Theater()"
   ]
  },
  {
   "cell_type": "code",
   "execution_count": 40,
   "metadata": {},
   "outputs": [
    {
     "data": {
      "text/html": [
       "<img src=\"codeflix.png\"/>"
      ],
      "text/plain": [
       "<IPython.core.display.Image object>"
      ]
     },
     "metadata": {},
     "output_type": "display_data"
    },
    {
     "name": "stdin",
     "output_type": "stream",
     "text": [
      "Please enter a username:  Bikram\n",
      "Please enter your password:  1234\n"
     ]
    },
    {
     "name": "stdout",
     "output_type": "stream",
     "text": [
      "\n",
      "        1 - Bikram\n",
      "        pw: 42\n",
      "         has been created!!!\n"
     ]
    },
    {
     "name": "stdin",
     "output_type": "stream",
     "text": [
      "What is your username?  Bikram\n",
      "What is your password?  1234\n"
     ]
    },
    {
     "name": "stdout",
     "output_type": "stream",
     "text": [
      "\n",
      "        1 - Bikram\n",
      "        pw: 42\n",
      "         has logged in!\n",
      "\n",
      "            What would you like to do?\n",
      "            Add - add a new user\n",
      "            Login - login to your profile\n",
      "            Update - update user information\n",
      "            Logout - Logout of your profile\n",
      "            Search - search for shows\n",
      "            Watch - pick something from your watchlist\n",
      "            View - view your watchlist\n",
      "            Delete - delete from watch list\n",
      "            Quit - close the application            \n",
      "            \n",
      "            \n"
     ]
    },
    {
     "name": "stdin",
     "output_type": "stream",
     "text": [
      "What would you like to do? (add, update, login, search, watch, view, delete, quit?)  watch\n",
      "What would you like to watch?  nepali\n",
      "nepali is not in your watch list... would you like to add it? y/n y\n"
     ]
    },
    {
     "name": "stdout",
     "output_type": "stream",
     "text": [
      "Aftershock: Everest and the Nepal Earthquake has 3 episodes\n",
      "Aftershock: Everest and the Nepal Earthquake has been added to the watchlist!\n",
      "..........\n",
      "...............\n",
      "Now playing: Wrong Place Wrong Time\n"
     ]
    },
    {
     "data": {
      "text/html": [
       "<img src=\"https://static.tvmaze.com/uploads/images/medium_landscape/435/1088950.jpg\"/>"
      ],
      "text/plain": [
       "<IPython.core.display.Image object>"
      ]
     },
     "metadata": {},
     "output_type": "display_data"
    },
    {
     "name": "stdout",
     "output_type": "stream",
     "text": [
      "Now playing: No Way Out\n"
     ]
    },
    {
     "data": {
      "text/html": [
       "<img src=\"https://static.tvmaze.com/uploads/images/medium_landscape/435/1088951.jpg\"/>"
      ],
      "text/plain": [
       "<IPython.core.display.Image object>"
      ]
     },
     "metadata": {},
     "output_type": "display_data"
    },
    {
     "name": "stdout",
     "output_type": "stream",
     "text": [
      "Now playing: Escape\n"
     ]
    },
    {
     "data": {
      "text/html": [
       "<img src=\"https://static.tvmaze.com/uploads/images/medium_landscape/435/1088952.jpg\"/>"
      ],
      "text/plain": [
       "<IPython.core.display.Image object>"
      ]
     },
     "metadata": {},
     "output_type": "display_data"
    },
    {
     "name": "stdin",
     "output_type": "stream",
     "text": [
      "What would you like to do? (add, update, login, search, watch, view, delete, quit?)  watch\n"
     ]
    },
    {
     "name": "stdout",
     "output_type": "stream",
     "text": [
      "\n",
      "\n",
      "Title: Aftershock: Everest and the Nepal Earthquake | Episodes: 3\n",
      "\n",
      "Summary: \n",
      " None\n"
     ]
    },
    {
     "data": {
      "image/jpeg": "[encoded data removed]",
      "text/plain": [
       "<IPython.core.display.Image object>"
      ]
     },
     "metadata": {},
     "output_type": "display_data"
    },
    {
     "name": "stdin",
     "output_type": "stream",
     "text": [
      "What would you like to watch?  quit\n",
      "quit is not in your watch list... would you like to add it? y/n y\n"
     ]
    },
    {
     "name": "stdout",
     "output_type": "stream",
     "text": [
      "I Quit has 8 episodes\n",
      "I Quit has been added to the watchlist!\n",
      "..........\n",
      "...............\n",
      "Now playing: Taking the Leap\n"
     ]
    },
    {
     "data": {
      "text/html": [
       "<img src=\"https://static.tvmaze.com/uploads/images/medium_landscape/384/961659.jpg\"/>"
      ],
      "text/plain": [
       "<IPython.core.display.Image object>"
      ]
     },
     "metadata": {},
     "output_type": "display_data"
    },
    {
     "name": "stdout",
     "output_type": "stream",
     "text": [
      "Now playing: Going All In\n"
     ]
    },
    {
     "data": {
      "text/html": [
       "<img src=\"https://static.tvmaze.com/uploads/images/medium_landscape/384/961660.jpg\"/>"
      ],
      "text/plain": [
       "<IPython.core.display.Image object>"
      ]
     },
     "metadata": {},
     "output_type": "display_data"
    },
    {
     "name": "stdout",
     "output_type": "stream",
     "text": [
      "Now playing: Easier Said Than Done\n"
     ]
    },
    {
     "data": {
      "text/html": [
       "<img src=\"https://static.tvmaze.com/uploads/images/medium_landscape/384/961661.jpg\"/>"
      ],
      "text/plain": [
       "<IPython.core.display.Image object>"
      ]
     },
     "metadata": {},
     "output_type": "display_data"
    },
    {
     "name": "stdin",
     "output_type": "stream",
     "text": [
      "Are you still watching? also get a job y/n n\n",
      "What would you like to do? (add, update, login, search, watch, view, delete, quit?)  quit\n"
     ]
    },
    {
     "name": "stdout",
     "output_type": "stream",
     "text": [
      "Thanks for watching Bikram! Now go outside and touch some grass!\n"
     ]
    }
   ],
   "source": [
    "codeflix.run()"
   ]
  },
  {
   "cell_type": "markdown",
   "metadata": {},
   "source": [
    "## Exercise 1"
   ]
  },
  {
   "cell_type": "markdown",
   "metadata": {},
   "source": [
    "<p>Describe in your own words the following concepts and give an analogy tying to a real-world concept."
   ]
  },
  {
   "cell_type": "markdown",
   "metadata": {},
   "source": [
    "#### Difference between a Class and an Object"
   ]
  },
  {
   "cell_type": "code",
   "execution_count": null,
   "metadata": {},
   "outputs": [],
   "source": [
    "\"\"\"\n",
    "Class:\n",
    "    A Class is a blueprint or template for creating objects. \n",
    "    It defines the properties and behaviours \n",
    "    that objects of that class will have. \n",
    "    A class can be thought of as a type, with objects being instances of that type.\n",
    "    Logical entity.\n",
    "    Does not allocate memory when declared.\n",
    "    Can only be declared once.\n",
    "    eg-Car\n",
    "\n",
    "Object: \n",
    "    An object is an instance of a class. \n",
    "    It has a state, which is defined by the values of its properies, and a behavior,\n",
    "    which is defined by the methods that it can execute. \n",
    "    Objects can interact with each other by sending messages to each other.\n",
    "    Physical entity.\n",
    "    Allocates memory when created.\n",
    "    Can be created multiple times\n",
    "    eg- Toyota camery, Honda accord\n",
    "\n",
    "An analogy tying to a real-world concept:\n",
    "    class       object\n",
    "    Car ----->  Honda accord\n",
    "    Person--->  Bikram\n",
    "\"\"\""
   ]
  },
  {
   "cell_type": "markdown",
   "metadata": {},
   "source": [
    "#### Encapsulation"
   ]
  },
  {
   "cell_type": "code",
   "execution_count": null,
   "metadata": {},
   "outputs": [],
   "source": [
    "\"\"\"\n",
    "Encapsulation:\n",
    "    Encapsulation is one of the four pillars of object-oriented programming(OOP).\n",
    "    he variables of a class can be made hidden from other classes, and can be accessed \n",
    "    only through the methods of their current class. Therefore, it is also known as data hiding.\n",
    "\n",
    "    Encapsulation is often implemented using modifiers, as public, private, and protected.\n",
    "    Public members of a class can be accessed directly from outside the class, while private members \n",
    "    can only be access from within the class.\n",
    "    Encapsulation can be described as a protective barrier that prevents the code and \n",
    "    data being randomly accessed by other code defined outside the class. \n",
    "    Access to the data and code is tightly controlled by a class.\n",
    "\n",
    "Analogy: \n",
    "    Encapsulation is like a capsule that contains medicine. The xapsule protects the medicine from \n",
    "    being exposed to the air and other contaminants.It also makes it easier to swallow the medicine.\n",
    "\n",
    "Real-World instance:\n",
    "\n",
    "    class Car:\n",
    "        def __init__(self, make, model, color):\n",
    "        self.make = make\n",
    "        self.model = model\n",
    "        self.color = color\n",
    "\"\"\""
   ]
  },
  {
   "cell_type": "markdown",
   "metadata": {},
   "source": [
    "#### Inheritance"
   ]
  },
  {
   "cell_type": "code",
   "execution_count": null,
   "metadata": {},
   "outputs": [],
   "source": [
    "\"\"\"\n",
    "Inheritance:\n",
    "    Inheritance is a mechanism that allows a class to inherit the properties\n",
    "    and behaviors of another class.\n",
    "    This means tha the child class can reuse the code of the parent class, without having \n",
    "    to rewrite it frim scratch.\n",
    "\n",
    "    Inheritance is a powerful feature that can be used to create hierarchies of the class,\n",
    "    where each child class adds new features or specializes the behaviors of the parent class.\n",
    "    This can be help to make code more reusable, modular, and maintainable.\n",
    "    \n",
    "    In short, Inheritance can be defined as the process \n",
    "    where one class acquires the properties (methods and fields) of another.\n",
    "\n",
    "Analogy:\n",
    "    Imagine that you are designing a software to built car. You might create a base class called\n",
    "    Car.To define the properties and behaviors that all Cars share, name, type, model, and make.\n",
    "\n",
    "    Real world instances: https://pokeapi.co\n",
    "\n",
    "    # Episode inherits from Video class\n",
    "\"\"\"\n",
    "\n",
    "class Episode(Video):\n",
    "    def __init__(self, data):\n",
    "        Video.__init__(self)\n",
    "        self.number = data['number']\n",
    "        self.season = data['season']\n",
    "        self.date_aired = data['airdate']\n",
    "        self.summary = data['summary']\n",
    "        self.rating = data['rating']['average']\n",
    "        self.title = data['name']\n",
    "        self.length = timedelta(minutes = data['runtime'])\n",
    "        if data['image']:\n",
    "            self.link = data['image']['medium']\n",
    "            \n",
    "    \n"
   ]
  },
  {
   "cell_type": "markdown",
   "metadata": {},
   "source": [
    "#### Polymorphism"
   ]
  },
  {
   "cell_type": "code",
   "execution_count": 8,
   "metadata": {},
   "outputs": [],
   "source": [
    "\"\"\"\n",
    "Polymorphism:\n",
    "    In object-oriented programming, polymorphism \n",
    "    (from the Greek meaning “having multiple forms”) is \n",
    "    the characteristic of being able to assign a different \n",
    "    meaning or usage to something in different \n",
    "    contexts — specifically, to allow an entity \n",
    "    such as a function, or an object to have more than one form.\n",
    "\n",
    "Analogy\n",
    "    Imagine that you are running a restaurant. You have a class called Employee that defines \n",
    "    the properties and behaviors of all employees in the restaurant. This class has properties \n",
    "    such as name, job title, and salary. It also has behaviors such as clockIn(), clockOut(), and paycheck().\n",
    "\n",
    "Real world instance:\n",
    "\"\"\"\n",
    "class Car:\n",
    "    def __init__(self, make, model, year):\n",
    "        self.make = make\n",
    "        self.model = model\n",
    "        self.year = year\n",
    "        self.engine = Engine()\n",
    "        self.transmission = Transmission()\n",
    "        self.brakes = Brakes()\n",
    "\n",
    "    def drive(self):\n",
    "        self.engine.start()\n",
    "        self.transmission.shift_drive()\n",
    "        self.brakes.release()\n",
    "\n",
    "    def stop(self):\n",
    "        self.brakes.apply()\n",
    "        self.engine.stop()\n",
    "\n",
    "class Engine:\n",
    "    def start(self):\n",
    "        # This method hides the internal details of how the engine is started.\n",
    "        pass\n",
    "\n",
    "    def stop(self):\n",
    "        # This method hides the internal details of how the engine is stopped.\n",
    "        pass\n",
    "\n",
    "class Transmission:\n",
    "    def shift_drive(self):\n",
    "        # This method hides the internal details of how the transmission is shifted into drive.\n",
    "        pass\n",
    "\n",
    "class Brakes:\n",
    "    def apply(self):\n",
    "        # This method hides the internal details of how the brakes are applied.\n",
    "        pass\n",
    "\n",
    "\n",
    "\n"
   ]
  },
  {
   "cell_type": "markdown",
   "metadata": {},
   "source": [
    "#### Abstraction"
   ]
  },
  {
   "cell_type": "code",
   "execution_count": null,
   "metadata": {},
   "outputs": [],
   "source": [
    "\"\"\"\n",
    "Abstraction: \n",
    "    Abstraction is the process of hiding the internal details of an object and exposing only \n",
    "    the essential features. This allows users to interact with the object without having to \n",
    "    know how it works internally.\n",
    "\n",
    "\n",
    "Analogy:\n",
    "\n",
    "Abstraction is like a car. When you drive a car, you don't need to know how the \n",
    "engine works or how the brakes work. You just need to know how to use the steering wheel, \n",
    "the pedals, and the gearshift.\n",
    "\n",
    "In the same way, when you use an object in an object-oriented program, \n",
    "you don't need to know how the object works internally. You just need \n",
    "to know how to use the object's methods.\n",
    "\n",
    "Real World Instance :\n",
    "\"\"\"\n",
    "\n",
    "class Car:\n",
    "    def __init__(self, make, model, year):\n",
    "        self.make = make\n",
    "        self.model = model\n",
    "        self.year = year\n",
    "\n",
    "    def drive(self):\n",
    "        # This method hides the internal details of how the car is driven.\n",
    "        pass\n",
    "\n",
    "    def stop(self):\n",
    "        # This method hides the internal details of how the car is stopped.\n",
    "        pass\n"
   ]
  },
  {
   "cell_type": "markdown",
   "metadata": {},
   "source": [
    "##  Exercise 2 (Optional):\n",
    "Discuss what other classes, methods, or fields (attributes) we could make to improve our streaming service using these principles. <br> <br>\n",
    "Start making a few of them and see where it leads. Make sure you either write out your thoughts in the below cell  or comment where you added code to the above Classes."
   ]
  },
  {
   "cell_type": "code",
   "execution_count": null,
   "metadata": {},
   "outputs": [],
   "source": []
  }
 ],
 "metadata": {
  "kernelspec": {
   "display_name": "Python 3 (ipykernel)",
   "language": "python",
   "name": "python3"
  },
  "language_info": {
   "codemirror_mode": {
    "name": "ipython",
    "version": 3
   },
   "file_extension": ".py",
   "mimetype": "text/x-python",
   "name": "python",
   "nbconvert_exporter": "python",
   "pygments_lexer": "ipython3",
   "version": "3.11.5"
  }
 },
 "nbformat": 4,
 "nbformat_minor": 4
}
